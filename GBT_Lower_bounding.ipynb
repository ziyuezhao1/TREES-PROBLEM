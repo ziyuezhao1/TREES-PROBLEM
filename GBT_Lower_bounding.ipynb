{
 "cells": [
  {
   "cell_type": "markdown",
   "metadata": {},
   "source": [
    "# GBT Lower Bounding Method"
   ]
  },
  {
   "cell_type": "markdown",
   "metadata": {},
   "source": [
    "---\n",
    "## 1. Setup\n",
    "\n",
    "\n",
    "### 1.1 Packages\n",
    "\n",
    "\n"
   ]
  },
  {
   "cell_type": "code",
   "execution_count": 1,
   "metadata": {},
   "outputs": [],
   "source": [
    "#import sys\n",
    "#sys.path.append(\"/Users/zhaoziyue/opt/anaconda3/lib/python3.8/site-packages\")\n",
    "import pandas as pd\n",
    "import numpy as np\n",
    "\n",
    "from sklearn.ensemble import RandomForestRegressor,RandomForestClassifier,GradientBoostingClassifier,GradientBoostingRegressor\n",
    "import time\n",
    "from pandas import DataFrame\n",
    "import scipy.stats\n",
    "\n",
    "from copy import deepcopy\n",
    "import matplotlib.pyplot as plt\n",
    "\n",
    "from prepareziyue import *\n",
    "from BB import *\n",
    "from gurobipy import *\n",
    "from Node import *\n",
    "import math"
   ]
  },
  {
   "cell_type": "markdown",
   "metadata": {},
   "source": [
    "### 1.2 Data\n",
    "We read the data into python using pandas."
   ]
  },
  {
   "cell_type": "code",
   "execution_count": 2,
   "metadata": {},
   "outputs": [],
   "source": [
    "# read the data \n",
    "df = pd.read_csv('concrete.csv')\n",
    "df=df.drop(df.columns[0], axis=1)\n",
    "X_variable=df.iloc[:,:-1]\n",
    "Y_variable=df.iloc[:,-1]\n",
    "\n",
    "labels=np.array(Y_variable)\n",
    "feature_list = list(X_variable.columns)\n",
    "features = np.array(X_variable)"
   ]
  },
  {
   "cell_type": "markdown",
   "metadata": {},
   "source": [
    "We use random forests regression."
   ]
  },
  {
   "cell_type": "code",
   "execution_count": 3,
   "metadata": {},
   "outputs": [],
   "source": [
    "#random forests regression (n_estimators=20)\n",
    "flag=1 \n",
    "rf=get_rf_gb_(features,labels,20,flag)\n",
    "trees=get_input(rf,flag)"
   ]
  },
  {
   "cell_type": "markdown",
   "metadata": {},
   "source": [
    "## 1. Lower bounding method——Random forests"
   ]
  },
  {
   "cell_type": "markdown",
   "metadata": {},
   "source": [
    "We have the domain lb<=x<=ub. And then we could use the `get_GBT_lower_bound` function to get the GBT lower bound with different tree partition subset size."
   ]
  },
  {
   "cell_type": "code",
   "execution_count": 32,
   "metadata": {},
   "outputs": [],
   "source": [
    "# Define the domain\n",
    "lb={}\n",
    "ub={}\n",
    "for i in total_split_variable(trees):\n",
    "    lb[i]=-50\n",
    "    ub[i]=50"
   ]
  },
  {
   "cell_type": "code",
   "execution_count": 23,
   "metadata": {
    "scrolled": true
   },
   "outputs": [],
   "source": [
    "# Get the GBT lower bound with different tree partition subset size\n",
    "lower_bounds={}\n",
    "for i in range(2,22,2):\n",
    "    lower_bounds[i]=get_GBT_lower_bound(root_partition(i,trees),flag,lb, ub)"
   ]
  },
  {
   "cell_type": "markdown",
   "metadata": {},
   "source": [
    "We could get the dictionary of lower bounds."
   ]
  },
  {
   "cell_type": "code",
   "execution_count": 27,
   "metadata": {
    "scrolled": false
   },
   "outputs": [
    {
     "data": {
      "text/plain": [
       "{2: 208.76,\n",
       " 4: 226.14,\n",
       " 6: 251.52000000000004,\n",
       " 8: 250.94,\n",
       " 10: 261.1,\n",
       " 12: 256.83000000000004,\n",
       " 14: 261.1,\n",
       " 16: 261.1,\n",
       " 18: 261.1,\n",
       " 20: 261.1}"
      ]
     },
     "execution_count": 27,
     "metadata": {},
     "output_type": "execute_result"
    }
   ],
   "source": [
    "# check the lower bounds\n",
    "lower_bounds"
   ]
  },
  {
   "cell_type": "markdown",
   "metadata": {},
   "source": [
    "Then we plot a figure evaluating the GBT lower bounding approach for different partition subset sizes."
   ]
  },
  {
   "cell_type": "code",
   "execution_count": 28,
   "metadata": {},
   "outputs": [
    {
     "data": {
      "image/png": "[encoded data removed]",
      "text/plain": [
       "<Figure size 800x320 with 1 Axes>"
      ]
     },
     "metadata": {
      "needs_background": "light"
     },
     "output_type": "display_data"
    }
   ],
   "source": [
    "# plot figure\n",
    "Partition_subset_size = list(lower_bounds.keys())       \n",
    "GBT_lower_bound = list(lower_bounds.values())       \n",
    "fig=plt.figure(figsize=(10,4))\n",
    "plt.plot(Partition_subset_size,GBT_lower_bound,lw=1,ls=\"-\",c=\"b\")\n",
    "plt.xlabel(\"Partition_subset_size\")\n",
    "plt.ylabel(\"GBT_lower_bound\")\n",
    "plt.title(\"Concrete mixture design instance: Global GBT lower bound improvement for different partition subset sizes\")\n",
    "plt.show()"
   ]
  },
  {
   "cell_type": "markdown",
   "metadata": {},
   "source": [
    "The figure illustrates the global GBT lower bound improvement as the partition subset size increases. The curve is generally rising, but sometimes falling. This is because we only increase the partition subset size rather than use the partition refinement. The usage of partition refinement is as follows:"
   ]
  },
  {
   "cell_type": "code",
   "execution_count": 4,
   "metadata": {},
   "outputs": [],
   "source": [
    "# Define the domain\n",
    "lb={}\n",
    "ub={}\n",
    "for i in total_split_variable(trees):\n",
    "    lb[i]=-50\n",
    "    ub[i]=50"
   ]
  },
  {
   "cell_type": "code",
   "execution_count": 5,
   "metadata": {},
   "outputs": [],
   "source": [
    "# Get the GBT lower bound with different tree partition subset size\n",
    "S=Node(lb,ub,2,flag,trees)\n",
    "lower_bounds={}\n",
    "lower_bounds[0]=S.get_GBT_obj_val()\n",
    "for i in range(0,4):\n",
    "    P_=nonroot_partition_refinement(S.get_tree_partitionl())\n",
    "    S.update_tree_partition(P_)\n",
    "    lower_bounds[i]=S.get_GBT_obj_val()"
   ]
  },
  {
   "cell_type": "markdown",
   "metadata": {},
   "source": [
    "We could get the dictionary of lower bounds again."
   ]
  },
  {
   "cell_type": "code",
   "execution_count": 6,
   "metadata": {},
   "outputs": [
    {
     "data": {
      "text/plain": [
       "{0: 226.14, 1: 250.94, 2: 261.1, 3: 261.1}"
      ]
     },
     "execution_count": 6,
     "metadata": {},
     "output_type": "execute_result"
    }
   ],
   "source": [
    "lower_bounds"
   ]
  },
  {
   "cell_type": "markdown",
   "metadata": {},
   "source": [
    "Then we plot a figure evaluating the GBT lower bounding."
   ]
  },
  {
   "cell_type": "code",
   "execution_count": 7,
   "metadata": {},
   "outputs": [
    {
     "data": {
      "image/png": "[encoded data removed]",
      "text/plain": [
       "<Figure size 720x288 with 1 Axes>"
      ]
     },
     "metadata": {
      "needs_background": "light"
     },
     "output_type": "display_data"
    }
   ],
   "source": [
    "# plot figure\n",
    "Partition_subset_size = list(lower_bounds.keys())       \n",
    "GBT_lower_bound = list(lower_bounds.values())       \n",
    "fig=plt.figure(figsize=(10,4))\n",
    "plt.plot(Partition_subset_size,GBT_lower_bound,lw=1,ls=\"-\",c=\"b\")\n",
    "plt.xlabel(\"Partition_subset_size\")\n",
    "plt.ylabel(\"GBT_lower_bound\")\n",
    "plt.title(\"Concrete mixture design instance: Global GBT lower bound improvement for different partition subset sizes\")\n",
    "plt.show()"
   ]
  },
  {
   "cell_type": "markdown",
   "metadata": {},
   "source": [
    "We could find the GBT lower bound increasing. (This is the lemma 3)"
   ]
  },
  {
   "cell_type": "markdown",
   "metadata": {},
   "source": [
    "## 2. Bounding method ——A classification problem\n",
    "\n",
    "Firstly, we generate data."
   ]
  },
  {
   "cell_type": "code",
   "execution_count": 9,
   "metadata": {},
   "outputs": [],
   "source": [
    "x=np.linspace(0,10,100)\n",
    "z=scipy.stats.norm.rvs(loc=0,size=100,scale=1)\n",
    "y1=x**2\n",
    "y=x**2+z\n",
    "df=DataFrame({\"x\":x,\"y\":y,\"class\":z})\n",
    "df[\"class\"][df[\"class\"]>=0]=1\n",
    "df[\"class\"][df[\"class\"]<0]=0\n",
    "xx=df[[\"x\",\"y\"]]\n",
    "yy=df[\"class\"]"
   ]
  },
  {
   "cell_type": "code",
   "execution_count": 10,
   "metadata": {
    "scrolled": false
   },
   "outputs": [
    {
     "data": {
      "text/html": [
       "<div>\n",
       "<style scoped>\n",
       "    .dataframe tbody tr th:only-of-type {\n",
       "        vertical-align: middle;\n",
       "    }\n",
       "\n",
       "    .dataframe tbody tr th {\n",
       "        vertical-align: top;\n",
       "    }\n",
       "\n",
       "    .dataframe thead th {\n",
       "        text-align: right;\n",
       "    }\n",
       "</style>\n",
       "<table border=\"1\" class=\"dataframe\">\n",
       "  <thead>\n",
       "    <tr style=\"text-align: right;\">\n",
       "      <th></th>\n",
       "      <th>x</th>\n",
       "      <th>y</th>\n",
       "      <th>class</th>\n",
       "    </tr>\n",
       "  </thead>\n",
       "  <tbody>\n",
       "    <tr>\n",
       "      <th>0</th>\n",
       "      <td>0.00000</td>\n",
       "      <td>1.965268</td>\n",
       "      <td>1.0</td>\n",
       "    </tr>\n",
       "    <tr>\n",
       "      <th>1</th>\n",
       "      <td>0.10101</td>\n",
       "      <td>-0.953233</td>\n",
       "      <td>0.0</td>\n",
       "    </tr>\n",
       "    <tr>\n",
       "      <th>2</th>\n",
       "      <td>0.20202</td>\n",
       "      <td>1.194085</td>\n",
       "      <td>1.0</td>\n",
       "    </tr>\n",
       "    <tr>\n",
       "      <th>3</th>\n",
       "      <td>0.30303</td>\n",
       "      <td>-0.201558</td>\n",
       "      <td>0.0</td>\n",
       "    </tr>\n",
       "    <tr>\n",
       "      <th>4</th>\n",
       "      <td>0.40404</td>\n",
       "      <td>0.140439</td>\n",
       "      <td>0.0</td>\n",
       "    </tr>\n",
       "    <tr>\n",
       "      <th>...</th>\n",
       "      <td>...</td>\n",
       "      <td>...</td>\n",
       "      <td>...</td>\n",
       "    </tr>\n",
       "    <tr>\n",
       "      <th>95</th>\n",
       "      <td>9.59596</td>\n",
       "      <td>91.207334</td>\n",
       "      <td>0.0</td>\n",
       "    </tr>\n",
       "    <tr>\n",
       "      <th>96</th>\n",
       "      <td>9.69697</td>\n",
       "      <td>94.475808</td>\n",
       "      <td>1.0</td>\n",
       "    </tr>\n",
       "    <tr>\n",
       "      <th>97</th>\n",
       "      <td>9.79798</td>\n",
       "      <td>97.718812</td>\n",
       "      <td>1.0</td>\n",
       "    </tr>\n",
       "    <tr>\n",
       "      <th>98</th>\n",
       "      <td>9.89899</td>\n",
       "      <td>96.096364</td>\n",
       "      <td>0.0</td>\n",
       "    </tr>\n",
       "    <tr>\n",
       "      <th>99</th>\n",
       "      <td>10.00000</td>\n",
       "      <td>100.034227</td>\n",
       "      <td>1.0</td>\n",
       "    </tr>\n",
       "  </tbody>\n",
       "</table>\n",
       "<p>100 rows × 3 columns</p>\n",
       "</div>"
      ],
      "text/plain": [
       "           x           y  class\n",
       "0    0.00000    1.965268    1.0\n",
       "1    0.10101   -0.953233    0.0\n",
       "2    0.20202    1.194085    1.0\n",
       "3    0.30303   -0.201558    0.0\n",
       "4    0.40404    0.140439    0.0\n",
       "..       ...         ...    ...\n",
       "95   9.59596   91.207334    0.0\n",
       "96   9.69697   94.475808    1.0\n",
       "97   9.79798   97.718812    1.0\n",
       "98   9.89899   96.096364    0.0\n",
       "99  10.00000  100.034227    1.0\n",
       "\n",
       "[100 rows x 3 columns]"
      ]
     },
     "execution_count": 10,
     "metadata": {},
     "output_type": "execute_result"
    }
   ],
   "source": [
    "df"
   ]
  },
  {
   "cell_type": "markdown",
   "metadata": {},
   "source": [
    "We use random forests classifier."
   ]
  },
  {
   "cell_type": "code",
   "execution_count": 22,
   "metadata": {},
   "outputs": [],
   "source": [
    "# random forests classifier (n_estimators=20)\n",
    "flag=2 \n",
    "\n",
    "#rf=get_rf_gb_(xx,yy,40,flag)\n",
    "\n",
    "rf = RandomForestClassifier(n_estimators=40)\n",
    "rf = rf.fit(xx,yy)\n",
    "trees=get_input(rf,flag)"
   ]
  },
  {
   "cell_type": "markdown",
   "metadata": {},
   "source": [
    "We define a function to get the GBT upperbound for a maximization problem."
   ]
  },
  {
   "cell_type": "code",
   "execution_count": 23,
   "metadata": {},
   "outputs": [],
   "source": [
    "def GBT_MIO_bound(tree_root_partition,flag,lb, ub):  \n",
    "    bound=0\n",
    "    for i in range(len(tree_root_partition)):\n",
    "        bound=bound+GBT_upperbound_solver(tree_root_partition[i],flag,lb, ub)\n",
    "    return bound"
   ]
  },
  {
   "cell_type": "code",
   "execution_count": 24,
   "metadata": {},
   "outputs": [],
   "source": [
    "lb={}\n",
    "ub={}\n",
    "for i in total_split_variable(trees):\n",
    "    lb[i]=-200\n",
    "    ub[i]=200"
   ]
  },
  {
   "cell_type": "code",
   "execution_count": 25,
   "metadata": {
    "scrolled": true
   },
   "outputs": [],
   "source": [
    "upper_bounds_2={}\n",
    "for i in range(2,42,2):\n",
    "    upper_bounds_2[i]=GBT_MIO_bound(root_partition(i,trees),flag,lb, ub)"
   ]
  },
  {
   "cell_type": "markdown",
   "metadata": {},
   "source": [
    "We could check the dictionary of upper bounds again."
   ]
  },
  {
   "cell_type": "code",
   "execution_count": 26,
   "metadata": {
    "scrolled": true
   },
   "outputs": [
    {
     "data": {
      "text/plain": [
       "{2: 40.0,\n",
       " 4: 40.0,\n",
       " 6: 40.0,\n",
       " 8: 40.0,\n",
       " 10: 40.0,\n",
       " 12: 40.0,\n",
       " 14: 40.0,\n",
       " 16: 40.0,\n",
       " 18: 40.0,\n",
       " 20: 40.0,\n",
       " 22: 40.0,\n",
       " 24: 40.0,\n",
       " 26: 40.0,\n",
       " 28: 40.0,\n",
       " 30: 40.0,\n",
       " 32: 40.00000000000013,\n",
       " 34: 40.0,\n",
       " 36: 40.0,\n",
       " 38: 40.0,\n",
       " 40: 40.0}"
      ]
     },
     "execution_count": 26,
     "metadata": {},
     "output_type": "execute_result"
    }
   ],
   "source": [
    "upper_bounds_2"
   ]
  },
  {
   "cell_type": "markdown",
   "metadata": {},
   "source": [
    "The reason of this phenomenon may be that the problem is a binary classification problem. It is easy to get the region that has a prediction of 1 for each tree. And the trees are independent but sometimes similar. So it is easy to get the maximum of the tree ensemble problem. "
   ]
  },
  {
   "cell_type": "code",
   "execution_count": null,
   "metadata": {},
   "outputs": [],
   "source": []
  }
 ],
 "metadata": {
  "kernelspec": {
   "display_name": "Python 3",
   "language": "python",
   "name": "python3"
  },
  "language_info": {
   "codemirror_mode": {
    "name": "ipython",
    "version": 3
   },
   "file_extension": ".py",
   "mimetype": "text/x-python",
   "name": "python",
   "nbconvert_exporter": "python",
   "pygments_lexer": "ipython3",
   "version": "3.8.3"
  }
 },
 "nbformat": 4,
 "nbformat_minor": 4
}
