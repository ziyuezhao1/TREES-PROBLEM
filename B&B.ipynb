{
 "cells": [
  {
   "cell_type": "markdown",
   "metadata": {},
   "source": [
    "# Branch and Bound ——report"
   ]
  },
  {
   "cell_type": "markdown",
   "metadata": {},
   "source": [
    "---\n",
    "## 1. Setup\n",
    "\n",
    "\n",
    "### 1.1 Packages\n",
    "\n",
    "\n",
    "\n"
   ]
  },
  {
   "cell_type": "code",
   "execution_count": 1,
   "metadata": {},
   "outputs": [],
   "source": [
    "#import sys\n",
    "#sys.path.append(\"/Users/zhaoziyue/opt/anaconda3/lib/python3.8/site-packages\")\n",
    "import pandas as pd\n",
    "import numpy as np\n",
    "from sklearn.ensemble import RandomForestRegressor\n",
    "from sklearn.ensemble import RandomForestClassifier\n",
    "from sklearn.ensemble import GradientBoostingClassifier\n",
    "from sklearn.ensemble import GradientBoostingRegressor\n",
    "import time\n",
    "import math\n",
    "from copy import deepcopy"
   ]
  },
  {
   "cell_type": "code",
   "execution_count": 2,
   "metadata": {},
   "outputs": [],
   "source": [
    "from prepareziyue import *\n",
    "from BB import *\n",
    "from gurobipy import *\n",
    "from Node import *"
   ]
  },
  {
   "cell_type": "markdown",
   "metadata": {},
   "source": [
    "### 1.2 Data\n",
    "We read the data into python using pandas."
   ]
  },
  {
   "cell_type": "code",
   "execution_count": 3,
   "metadata": {},
   "outputs": [],
   "source": [
    "df = pd.read_csv('concrete.csv')\n",
    "df=df.drop(df.columns[0], axis=1)\n",
    "X_variable=df.iloc[:,:-1]\n",
    "Y_variable=df.iloc[:,-1]\n",
    "\n",
    "labels=np.array(Y_variable)\n",
    "feature_list = list(X_variable.columns)\n",
    "features = np.array(X_variable)"
   ]
  },
  {
   "cell_type": "markdown",
   "metadata": {},
   "source": [
    "We use random forests regression."
   ]
  },
  {
   "cell_type": "code",
   "execution_count": 4,
   "metadata": {
    "scrolled": true
   },
   "outputs": [],
   "source": [
    "flag=1 # Random forests regressor\n",
    "rf=get_rf_gb_(features,labels,10,flag)\n",
    "trees=get_input(rf,flag)"
   ]
  },
  {
   "cell_type": "markdown",
   "metadata": {},
   "source": [
    "First, we may have a try of the `node` class."
   ]
  },
  {
   "cell_type": "code",
   "execution_count": 24,
   "metadata": {},
   "outputs": [
    {
     "name": "stdout",
     "output_type": "stream",
     "text": [
      "0.0\n",
      "107.05000000000001\n"
     ]
    }
   ],
   "source": [
    "# We may have a try of the node class.\n",
    "S=Node(lb,ub,2,flag,trees)\n",
    "b_convex = S.get_Convex_obj_val()\n",
    "b_GBT = S.get_GBT_obj_val()\n",
    "print(b_convex)\n",
    "print(b_GBT)"
   ]
  },
  {
   "cell_type": "markdown",
   "metadata": {},
   "source": [
    "We have the domain lb<=x<=ub. And then we could use the `weight_calculation` function to get the branch ordering"
   ]
  },
  {
   "cell_type": "code",
   "execution_count": 11,
   "metadata": {},
   "outputs": [],
   "source": [
    "lb={}\n",
    "ub={}\n",
    "for i in total_split_variable(trees):\n",
    "    lb[i]=-100\n",
    "    ub[i]=100"
   ]
  },
  {
   "cell_type": "code",
   "execution_count": 12,
   "metadata": {},
   "outputs": [],
   "source": [
    "# Get the branching ordering. \n",
    "# If you want more details about how to calculate the weights, please check the algorithm 3 in the article.\n",
    "Branch_ordering=weight_calculation(trees)"
   ]
  },
  {
   "cell_type": "markdown",
   "metadata": {},
   "source": [
    "We use the `B_B` function and check some information. Here we do not use the strong branching. And the information of the B&B algorithm is as follows:"
   ]
  },
  {
   "cell_type": "code",
   "execution_count": 13,
   "metadata": {
    "scrolled": true
   },
   "outputs": [
    {
     "name": "stdout",
     "output_type": "stream",
     "text": [
      "Check begin time: Wed Aug 31 15:00:02 2022\n",
      "convex part of S:  0.0\n",
      "GBT part of S:  107.05000000000001\n",
      "Check step 1-6 time:  Wed Aug 31 15:04:31 2022 best_lower_bound:  107.05000000000001 feasible solution:  152.89000000000001\n",
      "Split node:  (7, 21.0)\n",
      "Check the GBT lower bound after the partition refinement: 123.12\n",
      "Check time of step 6-18: Wed Aug 31 15:05:14 2022 best_lower_bound:  123.12 feasible solution:  152.89000000000001\n",
      "check time of step 19 Wed Aug 31 15:05:14 2022\n",
      "child node has the convex part objective value and GBT part objective value  441.0 154.53000000000003 and the global value  595.53\n",
      "the feasible solution  152.89000000000001\n",
      "check time of step 19 Wed Aug 31 15:05:56 2022\n",
      "child node has the convex part objective value and GBT part objective value  0.0 128.64 and the global value  128.64\n",
      "the feasible solution  152.89000000000001\n",
      "check step 20: we added a child node!  Wed Aug 31 15:06:37 2022\n",
      "check step 23:  Wed Aug 31 15:06:37 2022 best_lower_bound:  123.12 feasible solution:  152.89000000000001\n",
      "convex part of S:  0.0\n",
      "GBT part of S:  128.64\n",
      "Check step 1-6 time:  Wed Aug 31 15:09:08 2022 best_lower_bound:  123.12 feasible solution:  152.89000000000001\n",
      "Split node:  (7, 10.5)\n",
      "Check the GBT lower bound after the partition refinement: 152.29\n",
      "Check time of step 6-18: Wed Aug 31 15:10:22 2022 best_lower_bound:  152.29 feasible solution:  152.89000000000001\n",
      "check time of step 19 Wed Aug 31 15:10:22 2022\n",
      "child node has the convex part objective value and GBT part objective value  0.0 152.29 and the global value  152.29\n",
      "the feasible solution  152.89000000000001\n",
      "check step 20: we added a child node!  Wed Aug 31 15:11:36 2022\n",
      "check time of step 19 Wed Aug 31 15:11:36 2022\n",
      "child node has the convex part objective value and GBT part objective value  110.25 180.00999999999996 and the global value  290.26\n",
      "the feasible solution  152.89000000000001\n",
      "check step 23:  Wed Aug 31 15:12:50 2022 best_lower_bound:  152.29 feasible solution:  152.89000000000001\n",
      "convex part of S:  0.0\n",
      "GBT part of S:  152.29\n",
      "Check step 1-6 time:  Wed Aug 31 15:16:10 2022 best_lower_bound:  152.29 feasible solution:  152.89000000000001\n",
      "Split node:  (4, 7.8500001430511475)\n",
      "Check the GBT lower bound after the partition refinement: 152.89000000000001\n",
      "Check time of step 6-18: Wed Aug 31 15:19:04 2022 best_lower_bound:  152.89000000000001 feasible solution:  152.89000000000001\n",
      "check time of step 19 Wed Aug 31 15:19:04 2022\n",
      "child node has the convex part objective value and GBT part objective value  0.0 152.89000000000001 and the global value  152.89000000000001\n",
      "the feasible solution  152.89000000000001\n",
      "check time of step 19 Wed Aug 31 15:21:53 2022\n",
      "child node has the convex part objective value and GBT part objective value  61.622502245903036 163.49 and the global value  225.11250224590304\n",
      "the feasible solution  152.89000000000001\n",
      "check step 23:  Wed Aug 31 15:23:59 2022 best_lower_bound:  152.89000000000001 feasible solution:  152.89000000000001\n"
     ]
    }
   ],
   "source": [
    "S=Node(lb,ub,2,flag,trees)\n",
    "b_lower_bounds,b_upper_bounds,begin_time=B_B(S, Branch_ordering,0)"
   ]
  },
  {
   "cell_type": "markdown",
   "metadata": {},
   "source": [
    "We could check the lower bounds and upper bounds."
   ]
  },
  {
   "cell_type": "code",
   "execution_count": 15,
   "metadata": {},
   "outputs": [
    {
     "data": {
      "text/plain": [
       "{1661929471.870479: {107.05000000000001},\n",
       " 1661929514.7717628: {123.12},\n",
       " 1661929748.395325: {123.12},\n",
       " 1661929822.66204: {152.29},\n",
       " 1661930170.1327639: {152.29},\n",
       " 1661930344.7521322: {152.89000000000001}}"
      ]
     },
     "execution_count": 15,
     "metadata": {},
     "output_type": "execute_result"
    }
   ],
   "source": [
    "b_lower_bounds"
   ]
  },
  {
   "cell_type": "code",
   "execution_count": 16,
   "metadata": {},
   "outputs": [
    {
     "data": {
      "text/plain": [
       "{1661929471.8704782: {152.89000000000001},\n",
       " 1661929514.7717628: {152.89000000000001},\n",
       " 1661929748.395324: {152.89000000000001},\n",
       " 1661929822.6620412: {152.89000000000001},\n",
       " 1661930170.132763: {152.89000000000001},\n",
       " 1661930344.7521331: {152.89000000000001}}"
      ]
     },
     "execution_count": 16,
     "metadata": {},
     "output_type": "execute_result"
    }
   ],
   "source": [
    "b_upper_bounds"
   ]
  },
  {
   "cell_type": "code",
   "execution_count": 22,
   "metadata": {
    "scrolled": true
   },
   "outputs": [
    {
     "data": {
      "image/png": "[encoded data removed]",
      "text/plain": [
       "<Figure size 720x288 with 1 Axes>"
      ]
     },
     "metadata": {
      "needs_background": "light"
     },
     "output_type": "display_data"
    }
   ],
   "source": [
    "# plot figure\n",
    "Time_1 =list(b_lower_bounds.keys())\n",
    "Time_2 = list(b_upper_bounds.keys())\n",
    "lower_bounds=[0]*len(Time_1)\n",
    "upper_bounds=[0]*len(Time_2)\n",
    "for i in range(len(Time_1)):\n",
    "    lower_bounds[i] = list(b_lower_bounds[Time_1[i]])[0]\n",
    "    upper_bounds[i] = list(b_upper_bounds[Time_2[i]])[0]\n",
    "fig=plt.figure(figsize=(10,4))\n",
    "plt.plot( [x -begin_time for x in Time_1],lower_bounds,lw=1,ls=\"-\",c=\"b\",label=\"ddd\")\n",
    "plt.plot([x -begin_time for x in Time_2],upper_bounds,lw=1,ls=\"-\",c=\"r\")\n",
    "plt.xlabel(\"Time\")\n",
    "plt.ylabel(\"bound\")\n",
    "plt.show()"
   ]
  },
  {
   "cell_type": "markdown",
   "metadata": {},
   "source": [
    "We now use the strong branching here. And the information of the B&B algorithm is as follows:"
   ]
  },
  {
   "cell_type": "code",
   "execution_count": 7,
   "metadata": {
    "scrolled": true
   },
   "outputs": [
    {
     "name": "stdout",
     "output_type": "stream",
     "text": [
      "Check begin time: Wed Aug 31 14:34:38 2022\n",
      "convex part of S:  0.0\n",
      "GBT part of S:  107.05000000000001\n",
      "Check step 1-6 time:  Wed Aug 31 14:39:17 2022 best_lower_bound:  107.05000000000001 feasible solution:  152.89000000000001\n",
      "S node is  {0: -100, 1: -100, 2: -100, 3: -100, 4: -100, 5: -100, 6: -100, 7: -100} {0: 100, 1: 100, 2: 100, 3: 100, 4: 100, 5: 100, 6: 100, 7: 100}\n",
      "child 1 is  {0: -100, 1: -100, 2: -100, 3: -100, 4: -100, 5: -100, 6: -100, 7: -100} {0: 100, 1: 100, 2: 100, 3: 100, 4: 100, 5: 100, 6: 100, 7: 21.0}\n",
      "child 2 is  {0: -100, 1: -100, 2: -100, 3: -100, 4: -100, 5: -100, 6: -100, 7: 21.0} {0: 100, 1: 100, 2: 100, 3: 100, 4: 100, 5: 100, 6: 100, 7: 100}\n",
      "We find the strong branching node.\n",
      "Here the split node is 0 0\n",
      "S node is  {0: -100, 1: -100, 2: -100, 3: -100, 4: -100, 5: -100, 6: -100, 7: -100} {0: 100, 1: 100, 2: 100, 3: 100, 4: 100, 5: 100, 6: 100, 7: 21.0}\n",
      "The number of the node is  1\n",
      "child 1 is  {0: -100, 1: -100, 2: -100, 3: -100, 4: -100, 5: -100, 6: -100, 7: -100} {0: 100, 1: 21.0, 2: 100, 3: 100, 4: 100, 5: 100, 6: 100, 7: 21.0}\n",
      "child 2 is  {0: -100, 1: 21.0, 2: -100, 3: -100, 4: -100, 5: -100, 6: -100, 7: -100} {0: 100, 1: 100, 2: 100, 3: 100, 4: 100, 5: 100, 6: 100, 7: 21.0}\n",
      "We find the strong branching node.\n",
      "Here the split node is 1 0\n",
      "S node is  {0: -100, 1: -100, 2: -100, 3: -100, 4: -100, 5: -100, 6: -100, 7: -100} {0: 100, 1: 21.0, 2: 100, 3: 100, 4: 100, 5: 100, 6: 100, 7: 21.0}\n",
      "The number of the node is  1\n",
      "The number of the node is  2\n",
      "child 1 is  {0: -100, 1: -100, 2: -100, 3: -100, 4: -100, 5: -100, 6: -100, 7: -100} {0: 100, 1: 21.0, 2: 100, 3: 100, 4: 100, 5: 100, 6: 100, 7: 10.5}\n",
      "child 2 is  {0: -100, 1: -100, 2: -100, 3: -100, 4: -100, 5: -100, 6: -100, 7: 10.5} {0: 100, 1: 21.0, 2: 100, 3: 100, 4: 100, 5: 100, 6: 100, 7: 21.0}\n",
      "The number of the node is  3\n",
      "S node is  {0: -100, 1: -100, 2: -100, 3: -100, 4: -100, 5: -100, 6: -100, 7: -100} {0: 100, 1: 21.0, 2: 100, 3: 100, 4: 100, 5: 100, 6: 100, 7: 21.0}\n",
      "child 1 is  {0: -100, 1: -100, 2: -100, 3: -100, 4: -100, 5: -100, 6: -100, 7: -100} {0: 100, 1: 21.0, 2: 100, 3: 100, 4: 100, 5: 100, 6: 100, 7: 5.0}\n",
      "child 2 is  {0: -100, 1: -100, 2: -100, 3: -100, 4: -100, 5: -100, 6: -100, 7: 5.0} {0: 100, 1: 21.0, 2: 100, 3: 100, 4: 100, 5: 100, 6: 100, 7: 21.0}\n",
      "The number of the node is  4\n",
      "S node is  {0: -100, 1: -100, 2: -100, 3: -100, 4: -100, 5: -100, 6: -100, 7: -100} {0: 100, 1: 21.0, 2: 100, 3: 100, 4: 100, 5: 100, 6: 100, 7: 21.0}\n",
      "child 1 is  {0: -100, 1: -100, 2: -100, 3: -100, 4: -100, 5: -100, 6: -100, 7: -100} {0: 100, 1: 21.0, 2: 100, 3: 100, 4: 5.0, 5: 100, 6: 100, 7: 21.0}\n",
      "child 2 is  {0: -100, 1: -100, 2: -100, 3: -100, 4: 5.0, 5: -100, 6: -100, 7: -100} {0: 100, 1: 21.0, 2: 100, 3: 100, 4: 100, 5: 100, 6: 100, 7: 21.0}\n",
      "The number of the node is  5\n",
      "We did not find the strong branching node.\n",
      "Here the split node is 2 1\n",
      "Split node:  (7, 10.5)\n",
      "Check the GBT lower bound after the partition refinement: 128.64\n",
      "Check time of step 6-18: Wed Aug 31 14:40:00 2022 best_lower_bound:  128.64 feasible solution:  152.89000000000001\n",
      "check time of step 19 Wed Aug 31 14:40:00 2022\n",
      "child node has the convex part objective value and GBT part objective value  110.25 165.39000509523325 and the global value  275.6400050952333\n",
      "the feasible solution  152.89000000000001\n",
      "check time of step 19 Wed Aug 31 14:40:42 2022\n",
      "child node has the convex part objective value and GBT part objective value  0.0 128.64 and the global value  128.64\n",
      "the feasible solution  152.89000000000001\n",
      "check step 20: we added a child node!  Wed Aug 31 14:41:23 2022\n",
      "check step 23:  Wed Aug 31 14:41:23 2022 best_lower_bound:  128.64 feasible solution:  152.89000000000001\n",
      "convex part of S:  0.0\n",
      "GBT part of S:  128.64\n",
      "Check step 1-6 time:  Wed Aug 31 14:44:15 2022 best_lower_bound:  128.64 feasible solution:  152.89000000000001\n",
      "Split node:  (7, 10.5)\n",
      "Check the GBT lower bound after the partition refinement: 152.29\n",
      "Check time of step 6-18: Wed Aug 31 14:45:37 2022 best_lower_bound:  152.29 feasible solution:  152.89000000000001\n",
      "check time of step 19 Wed Aug 31 14:45:37 2022\n",
      "child node has the convex part objective value and GBT part objective value  110.25 192.97 and the global value  303.22\n",
      "the feasible solution  152.89000000000001\n",
      "check time of step 19 Wed Aug 31 14:47:02 2022\n",
      "child node has the convex part objective value and GBT part objective value  0.0 152.29 and the global value  152.29\n",
      "the feasible solution  152.89000000000001\n",
      "check step 20: we added a child node!  Wed Aug 31 14:48:39 2022\n",
      "check step 23:  Wed Aug 31 14:48:39 2022 best_lower_bound:  152.29 feasible solution:  152.89000000000001\n",
      "convex part of S:  0.0\n",
      "GBT part of S:  152.29\n",
      "Check step 1-6 time:  Wed Aug 31 14:51:56 2022 best_lower_bound:  152.29 feasible solution:  152.89000000000001\n",
      "Split node:  (7, 10.5)\n",
      "Check the GBT lower bound after the partition refinement: 152.89000000000001\n",
      "Check time of step 6-18: Wed Aug 31 14:53:46 2022 best_lower_bound:  152.89000000000001 feasible solution:  152.89000000000001\n",
      "check time of step 19 Wed Aug 31 14:53:46 2022\n",
      "child node has the convex part objective value and GBT part objective value  0.0 152.89000000000001 and the global value  152.89000000000001\n",
      "the feasible solution  152.89000000000001\n",
      "check time of step 19 Wed Aug 31 14:55:29 2022\n",
      "child node has the convex part objective value and GBT part objective value  110.25 201.25 and the global value  311.5\n",
      "the feasible solution  152.89000000000001\n",
      "check step 23:  Wed Aug 31 14:57:13 2022 best_lower_bound:  152.89000000000001 feasible solution:  152.89000000000001\n"
     ]
    }
   ],
   "source": [
    "S=Node(lb,ub,2,flag,trees)\n",
    "b_lower_bounds_2,b_upper_bounds_2,begin_time_2=B_B(S, Branch_ordering,1)"
   ]
  },
  {
   "cell_type": "markdown",
   "metadata": {},
   "source": [
    "We could check the lower bounds and upper bounds."
   ]
  },
  {
   "cell_type": "code",
   "execution_count": 10,
   "metadata": {},
   "outputs": [
    {
     "data": {
      "text/plain": [
       "{1661927957.4486542: {107.05000000000001},\n",
       " 1661928000.453655: {128.64},\n",
       " 1661928255.1467872: {128.64},\n",
       " 1661928337.8238668: {152.29},\n",
       " 1661928716.4217532: {152.29},\n",
       " 1661928826.086143: {152.89000000000001}}"
      ]
     },
     "execution_count": 10,
     "metadata": {},
     "output_type": "execute_result"
    }
   ],
   "source": [
    "b_lower_bounds_2"
   ]
  },
  {
   "cell_type": "code",
   "execution_count": 18,
   "metadata": {},
   "outputs": [
    {
     "data": {
      "text/plain": [
       "{1661927957.448653: {152.89000000000001},\n",
       " 1661928000.453656: {152.89000000000001},\n",
       " 1661928255.1467829: {152.89000000000001},\n",
       " 1661928337.823869: {152.89000000000001},\n",
       " 1661928716.421752: {152.89000000000001},\n",
       " 1661928826.086144: {152.89000000000001}}"
      ]
     },
     "execution_count": 18,
     "metadata": {},
     "output_type": "execute_result"
    }
   ],
   "source": [
    "b_upper_bounds_2"
   ]
  },
  {
   "cell_type": "markdown",
   "metadata": {},
   "source": [
    "We plot figure for B&B now. "
   ]
  },
  {
   "cell_type": "code",
   "execution_count": 9,
   "metadata": {},
   "outputs": [
    {
     "data": {
      "image/png": "[encoded data removed]",
      "text/plain": [
       "<Figure size 720x288 with 1 Axes>"
      ]
     },
     "metadata": {
      "needs_background": "light"
     },
     "output_type": "display_data"
    }
   ],
   "source": [
    "# plot figure\n",
    "Time_1_2 =list(b_lower_bounds_2.keys())\n",
    "Time_2_2 = list(b_upper_bounds_2.keys())\n",
    "lower_bounds_2=[0]*len(Time_1_2)\n",
    "upper_bounds_2=[0]*len(Time_2_2)\n",
    "for i in range(len(Time_1_2)):\n",
    "    lower_bounds_2[i] = list(b_lower_bounds_2[Time_1_2[i]])[0]\n",
    "    upper_bounds_2[i] = list(b_upper_bounds_2[Time_2_2[i]])[0]\n",
    "fig=plt.figure(figsize=(10,4))\n",
    "plt.plot( [x -begin_time_2 for x in Time_1_2],lower_bounds_2,lw=1,ls=\"-\",c=\"b\")\n",
    "\n",
    "plt.plot([x -begin_time_2 for x in Time_2_2],upper_bounds_2,lw=1,ls=\"-\",c=\"r\")\n",
    "plt.xlabel(\"Time\")\n",
    "plt.ylabel(\"bound\")\n",
    "plt.show()"
   ]
  },
  {
   "cell_type": "code",
   "execution_count": null,
   "metadata": {},
   "outputs": [],
   "source": []
  }
 ],
 "metadata": {
  "kernelspec": {
   "display_name": "Python 3",
   "language": "python",
   "name": "python3"
  },
  "language_info": {
   "codemirror_mode": {
    "name": "ipython",
    "version": 3
   },
   "file_extension": ".py",
   "mimetype": "text/x-python",
   "name": "python",
   "nbconvert_exporter": "python",
   "pygments_lexer": "ipython3",
   "version": "3.8.3"
  }
 },
 "nbformat": 4,
 "nbformat_minor": 4
}
